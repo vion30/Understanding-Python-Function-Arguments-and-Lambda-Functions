{
 "cells": [
  {
   "cell_type": "code",
   "execution_count": null,
   "id": "c6136058",
   "metadata": {},
   "outputs": [],
   "source": [
    "# Q1. Problem Statement: Quotient and Remainder\n",
    "# Write a Python program with a user-defined function that takes two integers as\n",
    "# input, dividend, and divisor. Print the quotient and the remainder of the two\n",
    "# numbers by dividing them using the “//” and “%” operators.\n",
    "\n",
    "inp= int(input(\"Enter a number: \"))\n",
    "divd = int(input(\"Enter diviend:\"))\n",
    "\n",
    "print(\"Quotient:\" ,inp//divd)\n",
    "print(\"Remainder:\" ,inp%divd)"
   ]
  },
  {
   "cell_type": "code",
   "execution_count": null,
   "id": "4f128b77",
   "metadata": {},
   "outputs": [],
   "source": [
    "# Q2. Problem Statement: Simple Interest Calculator\n",
    "# Write a program in Python to calculate simple interest using the lambda\n",
    "# function.\n",
    "# Hint: Simple interest = (P * R * T)/100, where P is the principal amount, R is the\n",
    "# rate, and T is the time/number of years.\n",
    "\n",
    "\n",
    "p = int(input(\"enter principal amount: \"))\n",
    "t = int(input(\"enter time in years: \"))\n",
    "r = float(input(\"enter interest: \"))\n",
    "\n",
    "simple_interest = lambda p,t,r: (p*t*r)/100\n",
    "\n",
    "simple_interest(p,t,r)"
   ]
  },
  {
   "cell_type": "code",
   "execution_count": 1,
   "id": "3f6697e0-7790-4b77-b2f7-9768e3cf86a6",
   "metadata": {},
   "outputs": [
    {
     "name": "stdout",
     "output_type": "stream",
     "text": [
      "73.4\n"
     ]
    }
   ],
   "source": [
    "def celToFah(temp):\n",
    "    return (9/5)*temp + 32\n",
    "print(celToFah(23))"
   ]
  },
  {
   "cell_type": "code",
   "execution_count": 5,
   "id": "857225a9-d63f-4555-96dc-19a31122f790",
   "metadata": {},
   "outputs": [
    {
     "name": "stdout",
     "output_type": "stream",
     "text": [
      "Welcome to DSML abc !\n"
     ]
    }
   ],
   "source": [
    "def greeting (name):\n",
    "    print (\"Welcome to DSML\", name,\"!\")\n",
    "    return\n",
    "greeting (\"abc\")"
   ]
  },
  {
   "cell_type": "code",
   "execution_count": 3,
   "id": "62568ba8-22ad-4317-b4da-7df6e6873cf0",
   "metadata": {},
   "outputs": [
    {
     "data": {
      "text/plain": [
       "22"
      ]
     },
     "execution_count": 3,
     "metadata": {},
     "output_type": "execute_result"
    }
   ],
   "source": [
    "def add (n1, n2):\n",
    "    return n1+n2\n",
    "\n",
    "add(10,12)"
   ]
  },
  {
   "cell_type": "code",
   "execution_count": 7,
   "id": "11c319a6-c4f4-4733-bfbb-05eb932beecf",
   "metadata": {},
   "outputs": [
    {
     "name": "stdout",
     "output_type": "stream",
     "text": [
      "10 9 8 7 6 5 4 3 2 1 "
     ]
    }
   ],
   "source": [
    "# range function \n",
    "for i in range (10, 0, -1):\n",
    "    print (i, end = ' ')"
   ]
  },
  {
   "cell_type": "code",
   "execution_count": 16,
   "id": "99f4c22c-7696-4b22-ac3b-e7131f8718f9",
   "metadata": {},
   "outputs": [
    {
     "ename": "TypeError",
     "evalue": "greet() missing 1 required positional argument: 'name'",
     "output_type": "error",
     "traceback": [
      "\u001b[1;31m---------------------------------------------------------------------------\u001b[0m",
      "\u001b[1;31mTypeError\u001b[0m                                 Traceback (most recent call last)",
      "Cell \u001b[1;32mIn[16], line 4\u001b[0m\n\u001b[0;32m      2\u001b[0m \u001b[38;5;28;01mdef\u001b[39;00m \u001b[38;5;21mgreet\u001b[39m (name):\n\u001b[0;32m      3\u001b[0m     \u001b[38;5;28;01mreturn\u001b[39;00m \u001b[38;5;124m\"\u001b[39m\u001b[38;5;124mHello \u001b[39m\u001b[38;5;124m\"\u001b[39m\u001b[38;5;241m+\u001b[39mname\n\u001b[1;32m----> 4\u001b[0m \u001b[38;5;28mprint\u001b[39m (greet())\n",
      "\u001b[1;31mTypeError\u001b[0m: greet() missing 1 required positional argument: 'name'"
     ]
    }
   ],
   "source": [
    "# function arguments in python:\n",
    "def greet (name):\n",
    "    return \"Hello \"+name\n",
    "print (greet())"
   ]
  },
  {
   "cell_type": "code",
   "execution_count": 17,
   "id": "759a66c5-d41e-40a0-b0df-f969498a59c4",
   "metadata": {},
   "outputs": [
    {
     "name": "stdout",
     "output_type": "stream",
     "text": [
      "Hello abc\n"
     ]
    }
   ],
   "source": [
    "# default arguments:\n",
    "def greet (name = 'abc'):\n",
    "    return \"Hello \"+name\n",
    "print (greet())"
   ]
  },
  {
   "cell_type": "code",
   "execution_count": 20,
   "id": "503596f2-14a5-41bf-adae-fdb898124f86",
   "metadata": {},
   "outputs": [
    {
     "ename": "TypeError",
     "evalue": "'int' object is not subscriptable",
     "output_type": "error",
     "traceback": [
      "\u001b[1;31m---------------------------------------------------------------------------\u001b[0m",
      "\u001b[1;31mTypeError\u001b[0m                                 Traceback (most recent call last)",
      "Cell \u001b[1;32mIn[20], line 3\u001b[0m\n\u001b[0;32m      1\u001b[0m \u001b[38;5;28;01mdef\u001b[39;00m \u001b[38;5;21mextractSub\u001b[39m(start, stop, string):\n\u001b[0;32m      2\u001b[0m     \u001b[38;5;28mprint\u001b[39m (\u001b[38;5;124m\"\u001b[39m\u001b[38;5;124mYour substring is:\u001b[39m\u001b[38;5;124m\"\u001b[39m, string[start:stop]) \u001b[38;5;66;03m# stop exclusive \u001b[39;00m\n\u001b[1;32m----> 3\u001b[0m extractSub(\u001b[38;5;124m\"\u001b[39m\u001b[38;5;124mapple\u001b[39m\u001b[38;5;124m\"\u001b[39m, \u001b[38;5;241m0\u001b[39m, \u001b[38;5;241m3\u001b[39m)\n",
      "Cell \u001b[1;32mIn[20], line 2\u001b[0m, in \u001b[0;36mextractSub\u001b[1;34m(start, stop, string)\u001b[0m\n\u001b[0;32m      1\u001b[0m \u001b[38;5;28;01mdef\u001b[39;00m \u001b[38;5;21mextractSub\u001b[39m(start, stop, string):\n\u001b[1;32m----> 2\u001b[0m     \u001b[38;5;28mprint\u001b[39m (\u001b[38;5;124m\"\u001b[39m\u001b[38;5;124mYour substring is:\u001b[39m\u001b[38;5;124m\"\u001b[39m, string[start:stop])\n",
      "\u001b[1;31mTypeError\u001b[0m: 'int' object is not subscriptable"
     ]
    }
   ],
   "source": [
    "def extractSub(start, stop, string):\n",
    "    print (\"Your substring is:\", string[start:stop]) # stop exclusive \n",
    "extractSub(\"apple\", 0, 3)"
   ]
  },
  {
   "cell_type": "code",
   "execution_count": 21,
   "id": "2da548f9-48f1-438f-8740-b3ad8117f460",
   "metadata": {},
   "outputs": [
    {
     "name": "stdout",
     "output_type": "stream",
     "text": [
      "Your substring is: pp\n"
     ]
    }
   ],
   "source": [
    "# keyword arguments:\n",
    "extractSub(string = \"apple\", stop = 3, start = 1)"
   ]
  },
  {
   "cell_type": "code",
   "execution_count": 1,
   "id": "bd000d5c-349b-44e2-9518-c373b72b1e5f",
   "metadata": {},
   "outputs": [
    {
     "ename": "NameError",
     "evalue": "name 'milk' is not defined",
     "output_type": "error",
     "traceback": [
      "\u001b[1;31m---------------------------------------------------------------------------\u001b[0m",
      "\u001b[1;31mNameError\u001b[0m                                 Traceback (most recent call last)",
      "Cell \u001b[1;32mIn[1], line 5\u001b[0m\n\u001b[0;32m      3\u001b[0m     \u001b[38;5;28mprint\u001b[39m (\u001b[38;5;124m\"\u001b[39m\u001b[38;5;124mproducts purchased:\u001b[39m\u001b[38;5;124m\"\u001b[39m, product1, product2)\n\u001b[0;32m      4\u001b[0m     \u001b[38;5;28;01mreturn\u001b[39;00m \n\u001b[1;32m----> 5\u001b[0m purchaseInfo(milk)\n",
      "\u001b[1;31mNameError\u001b[0m: name 'milk' is not defined"
     ]
    }
   ],
   "source": [
    "def purchaseInfo (product1, product2):\n",
    "    print (\"products purchased:\", product1, product2)\n",
    "    return \n",
    "purchaseInfo(milk)"
   ]
  },
  {
   "cell_type": "code",
   "execution_count": 6,
   "id": "ef45451b-a264-4bae-86a0-75128f26e6da",
   "metadata": {},
   "outputs": [
    {
     "name": "stdout",
     "output_type": "stream",
     "text": [
      "products purchased: milk \n",
      "products purchased: milk chips apples cookies \n"
     ]
    }
   ],
   "source": [
    "# variable length arguments \n",
    "def purchaseInfo (product1, *products):\n",
    "    print (\"products purchased:\", product1, end =\" \")\n",
    "    for i in products:\n",
    "        print (i, end = \" \")\n",
    "    print()\n",
    "    return \n",
    "purchaseInfo(\"milk\")\n",
    "purchaseInfo(\"milk\", \"chips\", \"apples\", \"cookies\")"
   ]
  },
  {
   "cell_type": "code",
   "execution_count": 15,
   "id": "a6528325-dbf7-4e00-b2e5-f7c13d8050ea",
   "metadata": {},
   "outputs": [
    {
     "name": "stdout",
     "output_type": "stream",
     "text": [
      "Hello!\n"
     ]
    }
   ],
   "source": [
    "def greet():\n",
    "    return \"Hello!\"\n",
    "\n",
    "def call_func(func):\n",
    "    return func()\n",
    "\n",
    "# Passing the greet function as an argument to call_func\n",
    "result = call_func(greet)\n",
    "print(result)  "
   ]
  },
  {
   "cell_type": "code",
   "execution_count": 1,
   "id": "f6b7f063-41b6-4714-8f6e-d096d9d7a412",
   "metadata": {},
   "outputs": [
    {
     "name": "stdout",
     "output_type": "stream",
     "text": [
      "8\n"
     ]
    }
   ],
   "source": [
    "def add(a, b):\n",
    "    return a + b\n",
    "\n",
    "def call_with_args(func, x, y):\n",
    "    return func(x, y)\n",
    "\n",
    "# Passing the add function as an argument to call_with_args\n",
    "result = call_with_args(add, 3, 5)\n",
    "print(result)  # Output: 8\n",
    "\n",
    "# Callback Functions: Pass a function as an argument to another function, which calls it at a certain point in its execution.\n",
    "# Higher-Order Functions: Functions that take other functions as arguments or return functions."
   ]
  },
  {
   "cell_type": "code",
   "execution_count": 14,
   "id": "1d6cfe84-885e-452a-8f00-71e32b8d6ce3",
   "metadata": {},
   "outputs": [
    {
     "name": "stdout",
     "output_type": "stream",
     "text": [
      "5\n",
      "<class 'function'>\n",
      "True\n"
     ]
    },
    {
     "ename": "AttributeError",
     "evalue": "'function' object has no attribute 'func_name'",
     "output_type": "error",
     "traceback": [
      "\u001b[1;31m---------------------------------------------------------------------------\u001b[0m",
      "\u001b[1;31mAttributeError\u001b[0m                            Traceback (most recent call last)",
      "Cell \u001b[1;32mIn[14], line 9\u001b[0m\n\u001b[0;32m      7\u001b[0m \u001b[38;5;28mprint\u001b[39m (\u001b[38;5;28msum\u001b[39m(\u001b[38;5;241m2\u001b[39m,\u001b[38;5;241m3\u001b[39m))\n\u001b[0;32m      8\u001b[0m \u001b[38;5;28mprint\u001b[39m (\u001b[38;5;28mtype\u001b[39m(add)); \u001b[38;5;28mprint\u001b[39m (\u001b[38;5;28mtype\u001b[39m(add) \u001b[38;5;241m==\u001b[39m \u001b[38;5;28mtype\u001b[39m(\u001b[38;5;28msum\u001b[39m))\n\u001b[1;32m----> 9\u001b[0m \u001b[38;5;28mprint\u001b[39m (\u001b[38;5;28msum\u001b[39m\u001b[38;5;241m.\u001b[39mfunc_name)\n",
      "\u001b[1;31mAttributeError\u001b[0m: 'function' object has no attribute 'func_name'"
     ]
    }
   ],
   "source": [
    "#lambda functions: in Python are small anonymous functions defined using the lambda keyword. They can have any number of arguments,\n",
    "# but only one expression.\n",
    "# lambda arguments: expression\n",
    "\n",
    "def add(x,y):\n",
    "    return x+y\n",
    "\n",
    "# by lambda function:\n",
    "sum = lambda x,y: x+y \n",
    "print (sum(2,3))\n",
    "print (type(add)); print (type(add) == type(sum))\n",
    "print (sum.func_name)"
   ]
  },
  {
   "cell_type": "code",
   "execution_count": null,
   "id": "3c12e5d3-9b45-4f30-bd4e-a01345b7bbe7",
   "metadata": {},
   "outputs": [],
   "source": [
    "def make_incrementor(n):\n",
    "    return lambda x: x + n\n",
    "\n",
    "increment_by_5 = make_incrementor(5)\n",
    "print(increment_by_5(10))  # Output: 15"
   ]
  },
  {
   "cell_type": "code",
   "execution_count": 16,
   "id": "0894d658-3a8e-4a48-ac83-8cad09f71741",
   "metadata": {},
   "outputs": [
    {
     "name": "stdout",
     "output_type": "stream",
     "text": [
      "[1, 2, 3, 4, 5]\n"
     ]
    }
   ],
   "source": [
    "#map function \n",
    "numbers_as_strings = [\"1\", \"2\", \"3\", \"4\", \"5\"]\n",
    "numbers_as_integers = list(map(int, numbers_as_strings)) #details about the function? \n",
    "print (numbers_as_integers)"
   ]
  },
  {
   "cell_type": "code",
   "execution_count": 17,
   "id": "ade6f0f4-d7e7-4b2a-a901-f93e1ece74f0",
   "metadata": {},
   "outputs": [
    {
     "name": "stdout",
     "output_type": "stream",
     "text": [
      "[1, 4, 9, 16]\n"
     ]
    }
   ],
   "source": [
    "# map function \n",
    "# Square all numbers in a list\n",
    "numbers = [1, 2, 3, 4]\n",
    "squared_numbers = list(map(lambda x: x ** 2, numbers))\n",
    "\n",
    "print(squared_numbers)  # Output: [1, 4, 9, 16]"
   ]
  },
  {
   "cell_type": "code",
   "execution_count": 18,
   "id": "42726f09-b3ca-46d2-8a27-d62a572b6d38",
   "metadata": {},
   "outputs": [
    {
     "name": "stdout",
     "output_type": "stream",
     "text": [
      "[2, 4, 6]\n"
     ]
    }
   ],
   "source": [
    "# Filter even numbers from a list\n",
    "numbers = [1, 2, 3, 4, 5, 6]\n",
    "even_numbers = list(filter(lambda x: x % 2 == 0, numbers))\n",
    "\n",
    "print(even_numbers)  # Output: [2, 4, 6]"
   ]
  },
  {
   "cell_type": "code",
   "execution_count": 21,
   "id": "49834690-af37-4740-9813-d3e74555c820",
   "metadata": {},
   "outputs": [
    {
     "name": "stdout",
     "output_type": "stream",
     "text": [
      "10\n"
     ]
    }
   ],
   "source": [
    "from functools import reduce\n",
    "# To apply a rolling computation to sequential pairs of values.\n",
    "\n",
    "# Sum all numbers in a list\n",
    "numbers = [1, 2, 3, 4]\n",
    "sum_numbers = reduce(lambda x, y: x + y, numbers)\n",
    "\n",
    "print(sum_numbers)  # Output: 10"
   ]
  },
  {
   "cell_type": "code",
   "execution_count": null,
   "id": "0c8097eb-d2ce-4099-bd81-d25637d376f9",
   "metadata": {},
   "outputs": [],
   "source": [
    "# global and local variables\n",
    "a = 10 \n",
    "def func ():\n",
    "    a= 20\n",
    "    print (\"This is function's a:\",a)\n",
    "print (a)\n",
    "func()"
   ]
  },
  {
   "cell_type": "code",
   "execution_count": null,
   "id": "809f5bcc-4ba0-4010-8ad0-4296b9f0af6e",
   "metadata": {},
   "outputs": [],
   "source": [
    "def func ():\n",
    "    b = 20\n",
    "    print (\"This is local b:\",b)\n",
    "func()\n",
    "print (b)"
   ]
  },
  {
   "cell_type": "code",
   "execution_count": null,
   "id": "a68ce294-b530-42d7-9858-c3a77698c4a5",
   "metadata": {},
   "outputs": [],
   "source": [
    "a = 40\n",
    "def sum (b):\n",
    "    c = 30\n",
    "    return b+c\n",
    "print (sum(10))\n",
    "print (c)"
   ]
  },
  {
   "cell_type": "code",
   "execution_count": 24,
   "id": "2d438315-07e7-4719-8a6c-9563178f2cb6",
   "metadata": {},
   "outputs": [
    {
     "name": "stdout",
     "output_type": "stream",
     "text": [
      "30\n",
      "30\n"
     ]
    }
   ],
   "source": [
    "#Global keyword\n",
    "a = 20\n",
    "def sample ():\n",
    "    global a\n",
    "    a = 30\n",
    "    print (a)\n",
    "sample()\n",
    "print (a)"
   ]
  },
  {
   "cell_type": "code",
   "execution_count": 26,
   "id": "ef7215db-757f-41f6-ba43-099b7446ba04",
   "metadata": {},
   "outputs": [
    {
     "name": "stdout",
     "output_type": "stream",
     "text": [
      "0\n"
     ]
    }
   ],
   "source": [
    "# creating a global variable inside a function:\n",
    "def fun ():\n",
    "    global c\n",
    "    c = 0\n",
    "fun()\n",
    "print(c)"
   ]
  },
  {
   "cell_type": "code",
   "execution_count": null,
   "id": "49db9cd1-0ce9-4f13-8b25-3f9494ccb0a8",
   "metadata": {},
   "outputs": [],
   "source": []
  }
 ],
 "metadata": {
  "kernelspec": {
   "display_name": "Python 3 (ipykernel)",
   "language": "python",
   "name": "python3"
  },
  "language_info": {
   "codemirror_mode": {
    "name": "ipython",
    "version": 3
   },
   "file_extension": ".py",
   "mimetype": "text/x-python",
   "name": "python",
   "nbconvert_exporter": "python",
   "pygments_lexer": "ipython3",
   "version": "3.12.4"
  }
 },
 "nbformat": 4,
 "nbformat_minor": 5
}
